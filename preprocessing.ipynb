{
 "cells": [
  {
   "cell_type": "code",
   "execution_count": 111,
   "id": "b8817bc3-1053-4cc3-a1df-83cd1eb1e5e0",
   "metadata": {},
   "outputs": [],
   "source": [
    "# 1. Импортируем библиотеки\n",
    "import pandas as pd\n",
    "import requests\n",
    "from bs4 import BeautifulSoup\n",
    "import category_encoders as ce"
   ]
  },
  {
   "cell_type": "code",
   "execution_count": 112,
   "id": "9b9c1840",
   "metadata": {},
   "outputs": [],
   "source": [
    "# 2. Считываем датафрейм.\n",
    "path = (\"_data.csv\")\n",
    "df = pd.read_csv(path)"
   ]
  },
  {
   "cell_type": "code",
   "execution_count": 113,
   "id": "7cc863e1",
   "metadata": {},
   "outputs": [],
   "source": [
    "# 3. Устнавливаем опцию отображения всех столбцов.\n",
    "pd.set_option('display.max_columns', None)"
   ]
  },
  {
   "cell_type": "code",
   "execution_count": 114,
   "id": "9dfd3de4",
   "metadata": {},
   "outputs": [
    {
     "data": {
      "text/plain": [
       "19737"
      ]
     },
     "execution_count": 114,
     "metadata": {},
     "output_type": "execute_result"
    }
   ],
   "source": [
    "# 4. Оставляем в датафрейме объявление только по Москве.\n",
    "df = df[df[\"Адрес\"].str.contains(\"Москва\", case=False)]\n",
    "len(df)"
   ]
  },
  {
   "cell_type": "code",
   "execution_count": 115,
   "id": "d0cce83a",
   "metadata": {},
   "outputs": [
    {
     "data": {
      "text/plain": [
       "281"
      ]
     },
     "execution_count": 115,
     "metadata": {},
     "output_type": "execute_result"
    }
   ],
   "source": [
    "# 5. Ищем дубликаты объявлений по описанию.\n",
    "duplicate_rows = df[df.duplicated(subset='Описание')]\n",
    "len(duplicate_rows)"
   ]
  },
  {
   "cell_type": "code",
   "execution_count": 116,
   "id": "695d0e14",
   "metadata": {},
   "outputs": [
    {
     "data": {
      "text/plain": [
       "19456"
      ]
     },
     "execution_count": 116,
     "metadata": {},
     "output_type": "execute_result"
    }
   ],
   "source": [
    "# 6. Удаляем дубликаты объявлений по описанию.\n",
    "df = df.drop_duplicates(subset='Описание')\n",
    "len(df)"
   ]
  },
  {
   "cell_type": "code",
   "execution_count": 117,
   "id": "fe4d0ad0-2d45-4f1a-8cd2-7ea84dc5c65d",
   "metadata": {},
   "outputs": [],
   "source": [
    "# 7. Удаляем лишние столбцы, которые не повлияют или незначительно повлияют на результат.\n",
    "df.drop([\"Unnamed: 0\", \"Тип\", \"Телефоны\", \"Описание\", \"Площадь комнат, м2\", \"Дополнительно\", \"Название ЖК\", \"Серия дома\", \"Ссылка на объявление\"], inplace=True, axis=1)"
   ]
  },
  {
   "cell_type": "code",
   "execution_count": 118,
   "id": "b00a231b-46b3-4953-a8ed-e8e94786cc1c",
   "metadata": {},
   "outputs": [],
   "source": [
    "# 8. Меняем название столбцов.\n",
    "rename_map = {'ID  объявления': 'ID', 'Количество комнат': \"number_of_rooms\", 'Метро': \"metro\", 'Адрес': \"address\", 'Площадь, м2': \"apartment_square\", \n",
    "              'Дом': \"house\", 'Парковка': \"parking_lot\", 'Можно с детьми/животными': 'children_pets_allowed','Высота потолков, м': 'ceiling_height',\n",
    "              'Лифт': 'elevator','Мусоропровод': 'garbage_chute', 'Цена': 'price', 'Ремонт': 'decor', 'Балкон': 'balcony', 'Окна': 'windows', \n",
    "              'Санузел': 'bathroom'}\n",
    "\n",
    "df.rename(columns=rename_map, inplace=True)"
   ]
  },
  {
   "cell_type": "code",
   "execution_count": 119,
   "id": "46eb1dec-f082-457b-b520-66c8096a5d8a",
   "metadata": {},
   "outputs": [],
   "source": [
    "# 9. Заполняем пропущенные значения\n",
    "df[\"number_of_rooms\"].fillna(\"Апартаменты/свободная планировка\", inplace=True)\n",
    "df[\"metro\"].fillna(\"Нет_данных\", inplace=True)\n",
    "df[\"parking_lot\"].fillna(\"Отсутствует\", inplace=True)\n",
    "\n",
    "df[\"ceiling_height\"] = df[\"ceiling_height\"].fillna(df[\"ceiling_height\"].mean())\n",
    "df[\"elevator\"] = df[\"elevator\"].fillna(\"Нет данных\")\n",
    "df[\"garbage_chute\"] = df[\"garbage_chute\"].fillna(\"Нет_данных\")\n",
    "df[\"children_pets_allowed\"] = df[\"children_pets_allowed\"].fillna(\"Нет_данных\")\n",
    "\n",
    "df[\"decor\"].fillna(\"Нет_данных\", inplace=True)\n",
    "df[\"balcony\"].fillna(\"Отсутствует\", inplace=True)\n",
    "df[\"windows\"].fillna(\"Нет_данных\", inplace=True)\n",
    "df[\"bathroom\"].fillna(\"Нет_данных\", inplace=True)"
   ]
  },
  {
   "cell_type": "code",
   "execution_count": 120,
   "id": "42d241ac",
   "metadata": {},
   "outputs": [],
   "source": [
    "# 10. Напишем функцию определения количества лифтов в доме и ванных комнат в квартире.\n",
    "def filter_values(lst, st):\n",
    "    for i in lst:\n",
    "        if st in i:\n",
    "            for z in i:\n",
    "                if z in [\"1\", \"2\", \"3\", \"4\", \"5\", \"6\", \"7\", \"8\", \"9\"]:\n",
    "                    return int(z)"
   ]
  },
  {
   "cell_type": "code",
   "execution_count": 121,
   "id": "148afaac",
   "metadata": {},
   "outputs": [],
   "source": [
    "# 11. Обработаем категории children_pets_allowed, elevator, bathroom, windows, balcony, decor, parking_lot.\n",
    "df[\"children_yes\"] = df[\"children_pets_allowed\"].apply(\n",
    "    lambda x: 1 if \"Можно с детьми\" in x else 0\n",
    ")\n",
    "df[\"pets_yes\"] = df[\"children_pets_allowed\"].apply(\n",
    "    lambda x: 1 if \"Можно с животными\" in x else 0\n",
    ")\n",
    "df[\"children_and_pets_yes\"] = df[\"children_pets_allowed\"].apply(\n",
    "    lambda x: 1 if x == \"Можно с детьми, Можно с животными\" else 0\n",
    ")\n",
    "df[\"elevator_type\"] = df[\"elevator\"].apply(lambda x: len(x.split(\",\")))\n",
    "df[\"elevator_pass\"] = df[\"elevator\"].apply(\n",
    "    lambda x: 0\n",
    "    if filter_values(x.split(\",\"), \"Пасс\") == None\n",
    "    else filter_values(x.split(\",\"), \"Пасс\")\n",
    ")\n",
    "df[\"elevator_cargo\"] = df[\"elevator\"].apply(\n",
    "    lambda x: 0\n",
    "    if filter_values(x.split(\",\"), \"Груз\") == None\n",
    "    else filter_values(x.split(\",\"), \"Груз\")\n",
    ")\n",
    "df[\"garbage_chute_ yes\"] = df[\"garbage_chute\"].apply(lambda x: 1 if x == \"Да\" else 0)\n",
    "df[\"bathroom_type\"] = df[\"bathroom\"].apply(lambda x: len(x.split(\",\")))\n",
    "df[\"bathroom_comb\"] = df[\"bathroom\"].apply(\n",
    "    lambda x: 0\n",
    "    if filter_values(x.split(\",\"), \"Совмещенный\") == None\n",
    "    else filter_values(x.split(\",\"), \"Совмещенный\")\n",
    ")\n",
    "df[\"bathroom_separate\"] = df[\"bathroom\"].apply(\n",
    "    lambda x: 0\n",
    "    if filter_values(x.split(\",\"), \"Раздельный\") == None\n",
    "    else filter_values(x.split(\",\"), \"Раздельный\")\n",
    ")\n",
    "\n",
    "df[\"bathroom_separate\"] = df[\"bathroom\"].apply(\n",
    "    lambda x: 0\n",
    "    if filter_values(x.split(\",\"), \"Раздельный\") == None\n",
    "    else filter_values(x.split(\",\"), \"Раздельный\")\n",
    ")\n",
    "df[\"windows_street\"] = df[\"windows\"].apply(lambda x: 1 if \"На улицу\" in x else 0)\n",
    "df[\"windows_yard\"] = df[\"windows\"].apply(lambda x: 1 if \"Во двор\" in x else 0)\n",
    "df[\"windows_all\"] = df[\"windows\"].apply(lambda x: 1 if \"На улицу и двор\" in x else 0)\n",
    "\n",
    "df[\"balcony_type\"] = df[\"balcony\"].apply(\n",
    "    lambda x: 0 if x == \"Отсутствует\" else len(x.split(\",\"))\n",
    ")\n",
    "df[\"balcony_bal\"] = df[\"balcony\"].apply(\n",
    "    lambda x: 0\n",
    "    if filter_values(x.split(\",\"), \"Балкон\") == None\n",
    "    else filter_values(x.split(\",\"), \"Балкон\")\n",
    ")\n",
    "df[\"balcony_loggia\"] = df[\"balcony\"].apply(\n",
    "    lambda x: 0\n",
    "    if filter_values(x.split(\",\"), \"Лоджия\") == None\n",
    "    else filter_values(x.split(\",\"), \"Лоджия\")\n",
    ")\n",
    "\n",
    "df[\"decor_designer\"] = df[\"decor\"].apply(lambda x: 1 if x == \"Дизайнерский\" else 0)\n",
    "df[\"decor_evro\"] = df[\"decor\"].apply(lambda x: 1 if x == \"Евроремонт\" else 0)\n",
    "df[\"decor_cosmetic\"] = df[\"decor\"].apply(lambda x: 1 if x == \"Косметический\" else 0)\n",
    "\n",
    "df[\"parking_lot_under\"] = df[\"parking_lot\"].apply(\n",
    "    lambda x: 1 if x == \"подземная\" else 0\n",
    ")\n",
    "df[\"parking_lot_ground\"] = df[\"parking_lot\"].apply(\n",
    "    lambda x: 1 if x == \"наземная\" else 0\n",
    ")\n",
    "df[\"parking_lot_open\"] = df[\"parking_lot\"].apply(lambda x: 1 if x == \"открытая\" else 0)\n",
    "df[\"parking_multi-level\"] = df[\"parking_lot\"].apply(\n",
    "    lambda x: 1 if x == \"многоуровневая\" else 0\n",
    ")"
   ]
  },
  {
   "cell_type": "code",
   "execution_count": 122,
   "id": "6db980c4",
   "metadata": {},
   "outputs": [],
   "source": [
    "# 12. Напишем функцию получения текущего курса валют.\n",
    "def get_exchange_rate(currency):\n",
    "    url = \"https://www.cbr.ru/currency_base/daily/\"  # Сохраняем URL веб-страницы Центробанка России, где содержится информация о ежедневных курсах валют\n",
    "    response = requests.get(\n",
    "        url\n",
    "    )  # Отправляем HTTP-запрос на указанный URL, чтобы получить содержимое веб-страницы.\n",
    "    soup = BeautifulSoup(\n",
    "        response.content, \"html.parser\"\n",
    "    )  # Используем библиотеку BeautifulSoup для парсинга (анализа) содержимого HTML веб-страницы.\n",
    "    for row in soup.find_all(\n",
    "        \"tr\"\n",
    "    ):  # Перебираем все элементы tr (строки) в HTML-таблице на веб-странице.\n",
    "        cells = row.find_all(\n",
    "            \"td\"\n",
    "        )  # Для каждой строки  находим все ячейки (элементы td) в этой строке.\n",
    "        if (\n",
    "            len(cells) > 1 and cells[1].text.strip() == currency\n",
    "        ):  # Проверяем, что количество ячеек больше 1 (чтобы избежать ошибок) и текст второй ячейки соответствует переданному коду валюты.\n",
    "            return float(\n",
    "                cells[4].text.replace(\",\", \".\")\n",
    "            )  # Если условие выше выполнено, то мы возвращаем курс валюты, который находится в пятой ячейке таблицы (индекс 4), и заменяем запятую на точку для правильного чтения десятичной дроби в Python."
   ]
  },
  {
   "cell_type": "code",
   "execution_count": 123,
   "metadata": {},
   "outputs": [],
   "source": [
    "# 13. Напишем функцию конвертации валют.\n",
    "def convert_price(x):\n",
    "    try:\n",
    "        if \"руб\" in x:\n",
    "            return float(x.split()[0])\n",
    "        elif \"$\" in x:\n",
    "            return float(x.split()[0]) * get_exchange_rate(\"USD\")\n",
    "        else:\n",
    "            return float(x.split()[0]) * get_exchange_rate(\"EUR\")\n",
    "    except:\n",
    "        return 0"
   ]
  },
  {
   "cell_type": "code",
   "execution_count": 124,
   "id": "d726e28d",
   "metadata": {},
   "outputs": [],
   "source": [
    "# 14. Заменяем значения на числовые значения в столбце price.\n",
    "df[\"price\"] = df[\"price\"].apply(lambda x: convert_price(x))"
   ]
  },
  {
   "cell_type": "code",
   "execution_count": 125,
   "id": "c0a63163",
   "metadata": {},
   "outputs": [],
   "source": [
    "# 15. Проставляем общую площадь в столбце apartment_square.\n",
    "df[\"apartment_square\"] = df[\"apartment_square\"].apply(\n",
    "    lambda x: x.split(\"/\")[0] if isinstance(x, str) else x\n",
    ")"
   ]
  },
  {
   "cell_type": "code",
   "execution_count": 126,
   "id": "080ce917",
   "metadata": {},
   "outputs": [],
   "source": [
    "# 16. Разделяем столбец house на 2 столбца: floor-nfloors, house_type.\n",
    "df[[\"floor-nfloors\", \"house_type\"]] = df[\"house\"].str.split(\", \", expand=True)"
   ]
  },
  {
   "cell_type": "code",
   "execution_count": 127,
   "id": "f28e63f1",
   "metadata": {},
   "outputs": [],
   "source": [
    "# 17. Разделяем столбец floor-nfloors на 2 столбца: floor, nfloors.\n",
    "df[[\"floor\", \"nfloors\"]] = df[\"floor-nfloors\"].str.split(\"/\", expand=True)"
   ]
  },
  {
   "cell_type": "code",
   "execution_count": 128,
   "id": "d26ec41f",
   "metadata": {},
   "outputs": [
    {
     "data": {
      "text/plain": [
       "array(['Монолитный', 'Монолитно-кирпичный', None, 'Панельный',\n",
       "       'Сталинский', 'Кирпичный', 'старый фонд', 'Блочный', 'Деревянный',\n",
       "       'Щитовой'], dtype=object)"
      ]
     },
     "execution_count": 128,
     "metadata": {},
     "output_type": "execute_result"
    }
   ],
   "source": [
    "# 18. Проверяем какие значения в столбце house_type.\n",
    "df[\"house_type\"].unique()"
   ]
  },
  {
   "cell_type": "code",
   "execution_count": 129,
   "id": "0a42a63d",
   "metadata": {},
   "outputs": [],
   "source": [
    "# 19. Заменяем пустые значения.\n",
    "df[\"house_type\"].fillna(\"Нет_данных\", inplace=True)"
   ]
  },
  {
   "cell_type": "code",
   "execution_count": 130,
   "id": "0e1f2bb6",
   "metadata": {},
   "outputs": [],
   "source": [
    "# 20. Для кодировки столбца house_type применяем метод Target Encoding,\n",
    "# который подставит медианное значение стоимости квартиры для соответствующей категории столбца house_type.\n",
    "\n",
    "# Инициализация Target Encoder.\n",
    "target_encoder = ce.TargetEncoder(\n",
    "    cols=[\"house_type\"], min_samples_leaf=10, handle_unknown=\"value\"\n",
    ")\n",
    "\n",
    "# Применение Target Encoder к датасету без явного указания цены.\n",
    "df[\"house_type_fit_to_price\"] = target_encoder.fit_transform(\n",
    "    df[\"house_type\"], df[\"price\"]\n",
    ")"
   ]
  },
  {
   "cell_type": "code",
   "execution_count": 131,
   "id": "3f71f514",
   "metadata": {},
   "outputs": [],
   "source": [
    "# 21. Удаляем оставшиеся столбцы\n",
    "df.drop(\n",
    "    [\n",
    "        \"house\",\n",
    "        \"floor-nfloors\",\n",
    "        \"house_type\",\n",
    "        \"decor\",\n",
    "        \"balcony\",\n",
    "        \"windows\",\n",
    "        \"bathroom\",\n",
    "        \"children_pets_allowed\",\n",
    "        \"elevator\",\n",
    "        \"garbage_chute\",\n",
    "        \"parking_lot\",\n",
    "    ],\n",
    "    inplace=True,\n",
    "    axis=1,\n",
    ")"
   ]
  },
  {
   "cell_type": "code",
   "execution_count": 132,
   "id": "f0dd1b55-39f8-4c37-bed2-02a6e3eeae77",
   "metadata": {},
   "outputs": [],
   "source": [
    "# 22. Выводим финальный датасет в файл.\n",
    "df.to_csv(\"data.csv\")"
   ]
  }
 ],
 "metadata": {
  "kernelspec": {
   "display_name": "Python 3 (ipykernel)",
   "language": "python",
   "name": "python3"
  },
  "language_info": {
   "codemirror_mode": {
    "name": "ipython",
    "version": 3
   },
   "file_extension": ".py",
   "mimetype": "text/x-python",
   "name": "python",
   "nbconvert_exporter": "python",
   "pygments_lexer": "ipython3",
   "version": "3.11.5"
  }
 },
 "nbformat": 4,
 "nbformat_minor": 5
}
