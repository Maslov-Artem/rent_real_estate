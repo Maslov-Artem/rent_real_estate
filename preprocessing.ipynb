{
 "cells": [
  {
   "cell_type": "code",
   "execution_count": 47,
   "id": "b8817bc3-1053-4cc3-a1df-83cd1eb1e5e0",
   "metadata": {},
   "outputs": [],
   "source": [
    "# 1. Импортируем библиотеки\n",
    "import pandas as pd\n",
    "import numpy as np\n",
    "import requests\n",
    "from bs4 import BeautifulSoup\n",
    "import category_encoders as ce\n",
    "import functools\n",
    "from geopy.geocoders import Nominatim\n",
    "import geopy.distance as distance\n",
    "import re"
   ]
  },
  {
   "cell_type": "code",
   "execution_count": 20,
   "id": "9b9c1840",
   "metadata": {},
   "outputs": [],
   "source": [
    "# 2. Считываем датафрейм.\n",
    "path = (\"_data.csv\")\n",
    "df = pd.read_csv(path)"
   ]
  },
  {
   "cell_type": "code",
   "execution_count": 21,
   "id": "b7cec026-ee9f-42d6-afee-e4bc42a1f85d",
   "metadata": {},
   "outputs": [],
   "source": [
    "path_2 = \"../../rent_real_estate/data_loc.csv\"\n",
    "df_2 = pd.read_csv(path_2)"
   ]
  },
  {
   "cell_type": "code",
   "execution_count": 4,
   "id": "7cc863e1",
   "metadata": {},
   "outputs": [],
   "source": [
    "# 3. Устнавливаем опцию отображения всех столбцов.\n",
    "pd.set_option('display.max_columns', None)"
   ]
  },
  {
   "cell_type": "code",
   "execution_count": 22,
   "id": "9dfd3de4",
   "metadata": {},
   "outputs": [],
   "source": [
    "# 4. Оставляем в датафрейме объявление только по Москве.\n",
    "df = df[df[\"Адрес\"].str.contains(\"Москва\", case=False)]\n",
    "df.reset_index(inplace=True, drop=True)"
   ]
  },
  {
   "cell_type": "code",
   "execution_count": 29,
   "id": "d0cce83a",
   "metadata": {},
   "outputs": [
    {
     "data": {
      "text/plain": [
       "281"
      ]
     },
     "execution_count": 29,
     "metadata": {},
     "output_type": "execute_result"
    }
   ],
   "source": [
    "# 5. Ищем дубликаты объявлений по описанию.\n",
    "duplicate_rows = df[df.duplicated(subset='Описание')]\n",
    "len(duplicate_rows)"
   ]
  },
  {
   "cell_type": "code",
   "execution_count": 30,
   "id": "695d0e14",
   "metadata": {},
   "outputs": [
    {
     "data": {
      "text/plain": [
       "19456"
      ]
     },
     "execution_count": 30,
     "metadata": {},
     "output_type": "execute_result"
    }
   ],
   "source": [
    "# 6. Удаляем дубликаты объявлений по описанию.\n",
    "df = df.drop_duplicates(subset='Описание')\n",
    "len(df)"
   ]
  },
  {
   "cell_type": "code",
   "execution_count": 31,
   "id": "fe4d0ad0-2d45-4f1a-8cd2-7ea84dc5c65d",
   "metadata": {},
   "outputs": [],
   "source": [
    "# 7. Удаляем лишние столбцы, которые не повлияют или незначительно повлияют на результат.\n",
    "df.drop([\"Unnamed: 0\", \"Тип\", \"Телефоны\", \"Описание\", \"Площадь комнат, м2\", \"Дополнительно\", \"Название ЖК\", \"Серия дома\", \"Ссылка на объявление\"], inplace=True, axis=1)"
   ]
  },
  {
   "cell_type": "code",
   "execution_count": 32,
   "id": "b00a231b-46b3-4953-a8ed-e8e94786cc1c",
   "metadata": {},
   "outputs": [],
   "source": [
    "# 8. Меняем название столбцов.\n",
    "rename_map = {'ID  объявления': 'ID', 'Количество комнат': \"number_of_rooms\", 'Метро': \"metro\", 'Адрес': \"address\", 'Площадь, м2': \"apartment_square\", \n",
    "              'Дом': \"house\", 'Парковка': \"parking_lot\", 'Можно с детьми/животными': 'children_pets_allowed','Высота потолков, м': 'ceiling_height',\n",
    "              'Лифт': 'elevator','Мусоропровод': 'garbage_chute', 'Цена': 'price', 'Ремонт': 'decor', 'Балкон': 'balcony', 'Окна': 'windows', \n",
    "              'Санузел': 'bathroom'}\n",
    "\n",
    "df.rename(columns=rename_map, inplace=True)"
   ]
  },
  {
   "cell_type": "code",
   "execution_count": 33,
   "id": "46eb1dec-f082-457b-b520-66c8096a5d8a",
   "metadata": {},
   "outputs": [],
   "source": [
    "# 9. Заполняем пропущенные значения\n",
    "df[\"number_of_rooms\"].fillna(\"Апартаменты/свободная планировка\", inplace=True)\n",
    "df[\"metro\"].fillna(\"Нет_данных\", inplace=True)\n",
    "df[\"parking_lot\"].fillna(\"Отсутствует\", inplace=True)\n",
    "\n",
    "df[\"ceiling_height\"] = df[\"ceiling_height\"].fillna(df[\"ceiling_height\"].mean())\n",
    "df[\"elevator\"] = df[\"elevator\"].fillna(\"Нет данных\")\n",
    "df[\"garbage_chute\"] = df[\"garbage_chute\"].fillna(\"Нет_данных\")\n",
    "df[\"children_pets_allowed\"] = df[\"children_pets_allowed\"].fillna(\"Нет_данных\")\n",
    "\n",
    "df[\"decor\"].fillna(\"Нет_данных\", inplace=True)\n",
    "df[\"balcony\"].fillna(\"Отсутствует\", inplace=True)\n",
    "df[\"windows\"].fillna(\"Нет_данных\", inplace=True)\n",
    "df[\"bathroom\"].fillna(\"Нет_данных\", inplace=True)"
   ]
  },
  {
   "cell_type": "code",
   "execution_count": 34,
   "id": "42d241ac",
   "metadata": {},
   "outputs": [],
   "source": [
    "# 10. Напишем функцию определения количества лифтов в доме и ванных комнат в квартире.\n",
    "def filter_values(lst, st):\n",
    "    for i in lst:\n",
    "        if st in i:\n",
    "            for z in i:\n",
    "                if z in [\"1\", \"2\", \"3\", \"4\", \"5\", \"6\", \"7\", \"8\", \"9\"]:\n",
    "                    return int(z)"
   ]
  },
  {
   "cell_type": "code",
   "execution_count": 35,
   "id": "148afaac",
   "metadata": {},
   "outputs": [],
   "source": [
    "# 11. Обработаем категории children_pets_allowed, elevator, bathroom, windows, balcony, decor, parking_lot, number_of_rooms.\n",
    "df[\"children_yes\"] = df[\"children_pets_allowed\"].apply(\n",
    "    lambda x: 1 if \"Можно с детьми\" in x else 0\n",
    ")\n",
    "df[\"pets_yes\"] = df[\"children_pets_allowed\"].apply(\n",
    "    lambda x: 1 if \"Можно с животными\" in x else 0\n",
    ")\n",
    "df[\"children_and_pets_yes\"] = df[\"children_pets_allowed\"].apply(\n",
    "    lambda x: 1 if x == \"Можно с детьми, Можно с животными\" else 0\n",
    ")\n",
    "df[\"elevator_type\"] = df[\"elevator\"].apply(lambda x: len(x.split(\",\")))\n",
    "df[\"elevator_pass\"] = df[\"elevator\"].apply(\n",
    "    lambda x: 0\n",
    "    if filter_values(x.split(\",\"), \"Пасс\") == None\n",
    "    else filter_values(x.split(\",\"), \"Пасс\")\n",
    ")\n",
    "df[\"elevator_cargo\"] = df[\"elevator\"].apply(\n",
    "    lambda x: 0\n",
    "    if filter_values(x.split(\",\"), \"Груз\") == None\n",
    "    else filter_values(x.split(\",\"), \"Груз\")\n",
    ")\n",
    "df[\"garbage_chute_ yes\"] = df[\"garbage_chute\"].apply(lambda x: 1 if x == \"Да\" else 0)\n",
    "df[\"bathroom_type\"] = df[\"bathroom\"].apply(lambda x: len(x.split(\",\")))\n",
    "df[\"bathroom_comb\"] = df[\"bathroom\"].apply(\n",
    "    lambda x: 0\n",
    "    if filter_values(x.split(\",\"), \"Совмещенный\") == None\n",
    "    else filter_values(x.split(\",\"), \"Совмещенный\")\n",
    ")\n",
    "df[\"bathroom_separate\"] = df[\"bathroom\"].apply(\n",
    "    lambda x: 0\n",
    "    if filter_values(x.split(\",\"), \"Раздельный\") == None\n",
    "    else filter_values(x.split(\",\"), \"Раздельный\")\n",
    ")\n",
    "\n",
    "df[\"bathroom_separate\"] = df[\"bathroom\"].apply(\n",
    "    lambda x: 0\n",
    "    if filter_values(x.split(\",\"), \"Раздельный\") == None\n",
    "    else filter_values(x.split(\",\"), \"Раздельный\")\n",
    ")\n",
    "df[\"windows_street\"] = df[\"windows\"].apply(lambda x: 1 if \"На улицу\" in x else 0)\n",
    "df[\"windows_yard\"] = df[\"windows\"].apply(lambda x: 1 if \"Во двор\" in x else 0)\n",
    "df[\"windows_all\"] = df[\"windows\"].apply(lambda x: 1 if \"На улицу и двор\" in x else 0)\n",
    "\n",
    "df[\"balcony_type\"] = df[\"balcony\"].apply(\n",
    "    lambda x: 0 if x == \"Отсутствует\" else len(x.split(\",\"))\n",
    ")\n",
    "df[\"balcony_bal\"] = df[\"balcony\"].apply(\n",
    "    lambda x: 0\n",
    "    if filter_values(x.split(\",\"), \"Балкон\") == None\n",
    "    else filter_values(x.split(\",\"), \"Балкон\")\n",
    ")\n",
    "df[\"balcony_loggia\"] = df[\"balcony\"].apply(\n",
    "    lambda x: 0\n",
    "    if filter_values(x.split(\",\"), \"Лоджия\") == None\n",
    "    else filter_values(x.split(\",\"), \"Лоджия\")\n",
    ")\n",
    "\n",
    "df[\"decor_designer\"] = df[\"decor\"].apply(lambda x: 1 if x == \"Дизайнерский\" else 0)\n",
    "df[\"decor_evro\"] = df[\"decor\"].apply(lambda x: 1 if x == \"Евроремонт\" else 0)\n",
    "df[\"decor_cosmetic\"] = df[\"decor\"].apply(lambda x: 1 if x == \"Косметический\" else 0)\n",
    "\n",
    "df[\"parking_lot_under\"] = df[\"parking_lot\"].apply(\n",
    "    lambda x: 1 if x == \"подземная\" else 0\n",
    ")\n",
    "df[\"parking_lot_ground\"] = df[\"parking_lot\"].apply(\n",
    "    lambda x: 1 if x == \"наземная\" else 0\n",
    ")\n",
    "df[\"parking_lot_open\"] = df[\"parking_lot\"].apply(lambda x: 1 if x == \"открытая\" else 0)\n",
    "df[\"parking_multi-level\"] = df[\"parking_lot\"].apply(\n",
    "    lambda x: 1 if x == \"многоуровневая\" else 0\n",
    ")\n",
    "\n",
    "df[\"rooms\"] = df[\"number_of_rooms\"].apply(\n",
    "    lambda x: int(x.split(\",\")[0]) if len(x.split(\",\")) > 1 else 1\n",
    ")\n",
    "\n",
    "df[\"isolated_room\"] = df[\"number_of_rooms\"].apply(\n",
    "    lambda x: 1 if \"Изолированная\" in [i for i in x.replace(\" \", \"\").split(\",\")] else 0\n",
    ")\n",
    "\n",
    "df[\"adjacent_room\"] = df[\"number_of_rooms\"].apply(\n",
    "    lambda x: 1 if \"Смежная\" in [i for i in x.replace(\" \", \"\").split(\",\")] else 0\n",
    ")\n",
    "\n",
    "df[\"adjacent/isolated\"] = df[\"number_of_rooms\"].apply(\n",
    "    lambda x: 1 if \"Обаварианта\" in [i for i in x.replace(\" \", \"\").split(\",\")] else 0\n",
    ")\n",
    "\n",
    "df[\"apartment_open_plan\"] = df[\"number_of_rooms\"].apply(\n",
    "    lambda x: 1\n",
    "    if \"Апартаменты/свободнаяпланировка\" in [i for i in x.replace(\" \", \"\").split(\",\")]\n",
    "    else 0\n",
    ")"
   ]
  },
  {
   "cell_type": "code",
   "execution_count": 36,
   "id": "6db980c4",
   "metadata": {},
   "outputs": [],
   "source": [
    "# 12. Напишем функцию получения текущего курса валют.\n",
    "@functools.lru_cache(\n",
    "    maxsize=None\n",
    ")  # Применим декоратор functools.lru_cache для кэширования результатов вызова функции get_exchange_rate, чтобы избежать повторных запросов к веб-сайту.\n",
    "def get_exchange_rate(currency):\n",
    "    url = \"https://www.cbr.ru/currency_base/daily/\"  # Сохраняем URL веб-страницы Центробанка России, где содержится информация о ежедневных курсах валют\n",
    "    response = requests.get(\n",
    "        url\n",
    "    )  # Отправляем HTTP-запрос на указанный URL, чтобы получить содержимое веб-страницы.\n",
    "    soup = BeautifulSoup(\n",
    "        response.content, \"html.parser\"\n",
    "    )  # Используем библиотеку BeautifulSoup для парсинга (анализа) содержимого HTML веб-страницы.\n",
    "    for row in soup.find_all(\n",
    "        \"tr\"\n",
    "    ):  # Перебираем все элементы tr (строки) в HTML-таблице на веб-странице.\n",
    "        cells = row.find_all(\n",
    "            \"td\"\n",
    "        )  # Для каждой строки  находим все ячейки (элементы td) в этой строке.\n",
    "        if (\n",
    "            len(cells) > 1 and cells[1].text.strip() == currency\n",
    "        ):  # Проверяем, что количество ячеек больше 1 (чтобы избежать ошибок) и текст второй ячейки соответствует переданному коду валюты.\n",
    "            return float(\n",
    "                cells[4].text.replace(\",\", \".\")\n",
    "            )  # Если условие выше выполнено, то мы возвращаем курс валюты, который находится в пятой ячейке таблицы (индекс 4), и заменяем запятую на точку для правильного чтения десятичной дроби в Python."
   ]
  },
  {
   "cell_type": "code",
   "execution_count": 37,
   "id": "45e762a7",
   "metadata": {},
   "outputs": [],
   "source": [
    "# 13. Напишем функцию конвертации валют.\n",
    "def convert_price(x):\n",
    "    try:\n",
    "        if \"руб\" in x:\n",
    "            return float(x.split()[0])\n",
    "        elif \"$\" in x:\n",
    "            return float(x.split()[0]) * get_exchange_rate(\"USD\")\n",
    "        else:\n",
    "            return float(x.split()[0]) * get_exchange_rate(\"EUR\")\n",
    "    except:\n",
    "        return 0"
   ]
  },
  {
   "cell_type": "code",
   "execution_count": 38,
   "id": "d726e28d",
   "metadata": {},
   "outputs": [],
   "source": [
    "# 14. Заменяем значения на числовые значения в столбце price.\n",
    "df[\"price\"] = df[\"price\"].apply(lambda x: convert_price(x))"
   ]
  },
  {
   "cell_type": "code",
   "execution_count": 39,
   "id": "c0a63163",
   "metadata": {},
   "outputs": [],
   "source": [
    "# 15. Проставляем общую площадь в столбце apartment_square. Меняем тип на float.\n",
    "df[\"apartment_square\"] = df[\"apartment_square\"].apply(\n",
    "    lambda x: x.split(\"/\")[0] if isinstance(x, str) else x\n",
    ")\n",
    "df[\"apartment_square\"] = df[\"apartment_square\"].astype(float)"
   ]
  },
  {
   "cell_type": "code",
   "execution_count": 40,
   "id": "080ce917",
   "metadata": {},
   "outputs": [],
   "source": [
    "# 16. Разделяем столбец house на 2 столбца: floor-nfloors, house_type.\n",
    "df[[\"floor-nfloors\", \"house_type\"]] = df[\"house\"].str.split(\", \", expand=True)"
   ]
  },
  {
   "cell_type": "code",
   "execution_count": 41,
   "id": "f28e63f1",
   "metadata": {},
   "outputs": [],
   "source": [
    "# 17. Разделяем столбец floor-nfloors на 2 столбца: floor, nfloors. Меняем тип на int.\n",
    "df[[\"floor\", \"nfloors\"]] = df[\"floor-nfloors\"].str.split(\"/\", expand=True)\n",
    "\n",
    "df[\"floor\"] = df[\"floor\"].astype(int)\n",
    "df[\"nfloors\"] = df[\"nfloors\"].astype(int)"
   ]
  },
  {
   "cell_type": "code",
   "execution_count": 42,
   "id": "d26ec41f",
   "metadata": {},
   "outputs": [
    {
     "data": {
      "text/plain": [
       "array(['Монолитный', 'Монолитно-кирпичный', None, 'Панельный',\n",
       "       'Сталинский', 'Кирпичный', 'старый фонд', 'Блочный', 'Деревянный',\n",
       "       'Щитовой'], dtype=object)"
      ]
     },
     "execution_count": 42,
     "metadata": {},
     "output_type": "execute_result"
    }
   ],
   "source": [
    "# 18. Проверяем какие значения в столбце house_type.\n",
    "df[\"house_type\"].unique()"
   ]
  },
  {
   "cell_type": "code",
   "execution_count": 43,
   "id": "0a42a63d",
   "metadata": {},
   "outputs": [],
   "source": [
    "# 19. Заменяем пустые значения.\n",
    "df[\"house_type\"].fillna(\"Нет_данных\", inplace=True)"
   ]
  },
  {
   "cell_type": "code",
   "execution_count": 44,
   "id": "0e1f2bb6",
   "metadata": {},
   "outputs": [],
   "source": [
    "# 20. Для кодировки столбца house_type применяем метод Target Encoding,\n",
    "# который подставит медианное значение стоимости квартиры для соответствующей категории столбца house_type.\n",
    "\n",
    "# Инициализация Target Encoder.\n",
    "target_encoder = ce.TargetEncoder(\n",
    "    cols=[\"house_type\"], min_samples_leaf=10, handle_unknown=\"value\"\n",
    ")\n",
    "\n",
    "# Применение Target Encoder к датасету без явного указания цены.\n",
    "df[\"house_type_fit_to_price\"] = target_encoder.fit_transform(\n",
    "    df[\"house_type\"], df[\"price\"]\n",
    ")"
   ]
  },
  {
   "cell_type": "code",
   "execution_count": 45,
   "id": "3f71f514",
   "metadata": {},
   "outputs": [],
   "source": [
    "# 21. Удаляем оставшиеся столбцы\n",
    "df.drop(\n",
    "    [\n",
    "        \"number_of_rooms\",\n",
    "        \"house\",\n",
    "        \"floor-nfloors\",\n",
    "        \"house_type\",\n",
    "        \"decor\",\n",
    "        \"balcony\",\n",
    "        \"windows\",\n",
    "        \"bathroom\",\n",
    "        \"children_pets_allowed\",\n",
    "        \"elevator\",\n",
    "        \"garbage_chute\",\n",
    "        \"parking_lot\",\n",
    "    ],\n",
    "    inplace=True,\n",
    "    axis=1,\n",
    ")"
   ]
  },
  {
   "cell_type": "code",
   "execution_count": 89,
   "id": "cc6b2acd-c171-4f41-9968-fb54a3270fc3",
   "metadata": {},
   "outputs": [],
   "source": [
    "# Вычисляем количество километров до метро, отсеивая крайние значения\n",
    "def calculate_distance_to_metro(data: list):\n",
    "    distance_list = []\n",
    "    index = []\n",
    "    for i, distance in enumerate(data):\n",
    "        if walk := re.match(r\".*?\\((\\d+)\\s.*пеш\", distance):\n",
    "            if int(walk[1]) > 40:\n",
    "                distance_list.append(None)\n",
    "            else:\n",
    "                distance_list.append(int(walk[1]) * 0.083)\n",
    "        elif drive := re.match(r\".*?\\((\\d+)\\s.*маш\", distance):\n",
    "            if int(drive[1]) > 40:\n",
    "                distance_list.append(None)\n",
    "            else:\n",
    "                distance_list.append(int(drive[1])  * 0.5)\n",
    "        else:\n",
    "            distance_list.append(None)\n",
    "            index.append(i)\n",
    "    return distance_list"
   ]
  },
  {
   "cell_type": "code",
   "execution_count": 92,
   "id": "3b299428-20b9-4eca-a8f7-27445dd3a1cf",
   "metadata": {},
   "outputs": [
    {
     "ename": "KeyError",
     "evalue": "'metro'",
     "output_type": "error",
     "traceback": [
      "\u001b[0;31m---------------------------------------------------------------------------\u001b[0m",
      "\u001b[0;31mKeyError\u001b[0m                                  Traceback (most recent call last)",
      "File \u001b[0;32m/opt/homebrew/lib/python3.11/site-packages/pandas/core/indexes/base.py:3791\u001b[0m, in \u001b[0;36mIndex.get_loc\u001b[0;34m(self, key)\u001b[0m\n\u001b[1;32m   3790\u001b[0m \u001b[38;5;28;01mtry\u001b[39;00m:\n\u001b[0;32m-> 3791\u001b[0m     \u001b[38;5;28;01mreturn\u001b[39;00m \u001b[38;5;28;43mself\u001b[39;49m\u001b[38;5;241;43m.\u001b[39;49m\u001b[43m_engine\u001b[49m\u001b[38;5;241;43m.\u001b[39;49m\u001b[43mget_loc\u001b[49m\u001b[43m(\u001b[49m\u001b[43mcasted_key\u001b[49m\u001b[43m)\u001b[49m\n\u001b[1;32m   3792\u001b[0m \u001b[38;5;28;01mexcept\u001b[39;00m \u001b[38;5;167;01mKeyError\u001b[39;00m \u001b[38;5;28;01mas\u001b[39;00m err:\n",
      "File \u001b[0;32mindex.pyx:152\u001b[0m, in \u001b[0;36mpandas._libs.index.IndexEngine.get_loc\u001b[0;34m()\u001b[0m\n",
      "File \u001b[0;32mindex.pyx:181\u001b[0m, in \u001b[0;36mpandas._libs.index.IndexEngine.get_loc\u001b[0;34m()\u001b[0m\n",
      "File \u001b[0;32mpandas/_libs/hashtable_class_helper.pxi:7080\u001b[0m, in \u001b[0;36mpandas._libs.hashtable.PyObjectHashTable.get_item\u001b[0;34m()\u001b[0m\n",
      "File \u001b[0;32mpandas/_libs/hashtable_class_helper.pxi:7088\u001b[0m, in \u001b[0;36mpandas._libs.hashtable.PyObjectHashTable.get_item\u001b[0;34m()\u001b[0m\n",
      "\u001b[0;31mKeyError\u001b[0m: 'metro'",
      "\nThe above exception was the direct cause of the following exception:\n",
      "\u001b[0;31mKeyError\u001b[0m                                  Traceback (most recent call last)",
      "Cell \u001b[0;32mIn[92], line 2\u001b[0m\n\u001b[1;32m      1\u001b[0m \u001b[38;5;66;03m# Вычисляем расстояние от квартиры до метро и удаляем ненужную колонку\u001b[39;00m\n\u001b[0;32m----> 2\u001b[0m \u001b[43mdf\u001b[49m\u001b[43m[\u001b[49m\u001b[38;5;124;43m\"\u001b[39;49m\u001b[38;5;124;43mmetro\u001b[39;49m\u001b[38;5;124;43m\"\u001b[39;49m\u001b[43m]\u001b[49m\u001b[38;5;241m.\u001b[39mfillna(\u001b[38;5;124m\"\u001b[39m\u001b[38;5;124m\"\u001b[39m, inplace\u001b[38;5;241m=\u001b[39m\u001b[38;5;28;01mTrue\u001b[39;00m)\n\u001b[1;32m      3\u001b[0m df[\u001b[38;5;124m\"\u001b[39m\u001b[38;5;124mdistance_to_metro\u001b[39m\u001b[38;5;124m\"\u001b[39m] \u001b[38;5;241m=\u001b[39m calculate_distance_to_metro(df[\u001b[38;5;124m\"\u001b[39m\u001b[38;5;124mmetro\u001b[39m\u001b[38;5;124m\"\u001b[39m])\n\u001b[1;32m      4\u001b[0m df[\u001b[38;5;124m\"\u001b[39m\u001b[38;5;124mdistance_to_metro\u001b[39m\u001b[38;5;124m\"\u001b[39m]\u001b[38;5;241m.\u001b[39mfillna(df[\u001b[38;5;124m\"\u001b[39m\u001b[38;5;124mdistance_to_metro\u001b[39m\u001b[38;5;124m\"\u001b[39m]\u001b[38;5;241m.\u001b[39mmean(), inplace\u001b[38;5;241m=\u001b[39m\u001b[38;5;28;01mTrue\u001b[39;00m)\n",
      "File \u001b[0;32m/opt/homebrew/lib/python3.11/site-packages/pandas/core/frame.py:3893\u001b[0m, in \u001b[0;36mDataFrame.__getitem__\u001b[0;34m(self, key)\u001b[0m\n\u001b[1;32m   3891\u001b[0m \u001b[38;5;28;01mif\u001b[39;00m \u001b[38;5;28mself\u001b[39m\u001b[38;5;241m.\u001b[39mcolumns\u001b[38;5;241m.\u001b[39mnlevels \u001b[38;5;241m>\u001b[39m \u001b[38;5;241m1\u001b[39m:\n\u001b[1;32m   3892\u001b[0m     \u001b[38;5;28;01mreturn\u001b[39;00m \u001b[38;5;28mself\u001b[39m\u001b[38;5;241m.\u001b[39m_getitem_multilevel(key)\n\u001b[0;32m-> 3893\u001b[0m indexer \u001b[38;5;241m=\u001b[39m \u001b[38;5;28;43mself\u001b[39;49m\u001b[38;5;241;43m.\u001b[39;49m\u001b[43mcolumns\u001b[49m\u001b[38;5;241;43m.\u001b[39;49m\u001b[43mget_loc\u001b[49m\u001b[43m(\u001b[49m\u001b[43mkey\u001b[49m\u001b[43m)\u001b[49m\n\u001b[1;32m   3894\u001b[0m \u001b[38;5;28;01mif\u001b[39;00m is_integer(indexer):\n\u001b[1;32m   3895\u001b[0m     indexer \u001b[38;5;241m=\u001b[39m [indexer]\n",
      "File \u001b[0;32m/opt/homebrew/lib/python3.11/site-packages/pandas/core/indexes/base.py:3798\u001b[0m, in \u001b[0;36mIndex.get_loc\u001b[0;34m(self, key)\u001b[0m\n\u001b[1;32m   3793\u001b[0m     \u001b[38;5;28;01mif\u001b[39;00m \u001b[38;5;28misinstance\u001b[39m(casted_key, \u001b[38;5;28mslice\u001b[39m) \u001b[38;5;129;01mor\u001b[39;00m (\n\u001b[1;32m   3794\u001b[0m         \u001b[38;5;28misinstance\u001b[39m(casted_key, abc\u001b[38;5;241m.\u001b[39mIterable)\n\u001b[1;32m   3795\u001b[0m         \u001b[38;5;129;01mand\u001b[39;00m \u001b[38;5;28many\u001b[39m(\u001b[38;5;28misinstance\u001b[39m(x, \u001b[38;5;28mslice\u001b[39m) \u001b[38;5;28;01mfor\u001b[39;00m x \u001b[38;5;129;01min\u001b[39;00m casted_key)\n\u001b[1;32m   3796\u001b[0m     ):\n\u001b[1;32m   3797\u001b[0m         \u001b[38;5;28;01mraise\u001b[39;00m InvalidIndexError(key)\n\u001b[0;32m-> 3798\u001b[0m     \u001b[38;5;28;01mraise\u001b[39;00m \u001b[38;5;167;01mKeyError\u001b[39;00m(key) \u001b[38;5;28;01mfrom\u001b[39;00m \u001b[38;5;21;01merr\u001b[39;00m\n\u001b[1;32m   3799\u001b[0m \u001b[38;5;28;01mexcept\u001b[39;00m \u001b[38;5;167;01mTypeError\u001b[39;00m:\n\u001b[1;32m   3800\u001b[0m     \u001b[38;5;66;03m# If we have a listlike key, _check_indexing_error will raise\u001b[39;00m\n\u001b[1;32m   3801\u001b[0m     \u001b[38;5;66;03m#  InvalidIndexError. Otherwise we fall through and re-raise\u001b[39;00m\n\u001b[1;32m   3802\u001b[0m     \u001b[38;5;66;03m#  the TypeError.\u001b[39;00m\n\u001b[1;32m   3803\u001b[0m     \u001b[38;5;28mself\u001b[39m\u001b[38;5;241m.\u001b[39m_check_indexing_error(key)\n",
      "\u001b[0;31mKeyError\u001b[0m: 'metro'"
     ]
    }
   ],
   "source": [
    "# Вычисляем расстояние от квартиры до метро и удаляем ненужную колонку\n",
    "df[\"metro\"].fillna(\"\", inplace=True)\n",
    "df[\"distance_to_metro\"] = calculate_distance_to_metro(df[\"metro\"])\n",
    "df[\"distance_to_metro\"].fillna(df[\"distance_to_metro\"].mean(), inplace=True)\n",
    "df.drop(\"metro\", axis=1, inplace=True)"
   ]
  },
  {
   "cell_type": "code",
   "execution_count": null,
   "id": "be455ff4-b6f3-4ea8-9090-bc632931afbb",
   "metadata": {},
   "outputs": [],
   "source": [
    "# \n",
    "highway_subset = df[(df[\"address\"].str.contains(\"ш.\") == True) & (df[\"location\"].isna() == True)]\n",
    "highway_subset['address'] = highway_subset['address'].str.replace(',', '')\n",
    "list_address = []\n",
    "for row in highway_subset[\"address\"]:\n",
    "    list_address.append(row.split(\"ш.\")[0])\n",
    "highway_subset[\"address\"] = list_address"
   ]
  },
  {
   "cell_type": "code",
   "execution_count": null,
   "id": "863bfca4-01e4-419a-b481-34f29e6544cb",
   "metadata": {},
   "outputs": [],
   "source": [
    "def address_sub(addresses):\n",
    "    modified_addresses = []\n",
    "    for address in addresses:\n",
    "        address = re.sub(r\"(\\d)([А-Я])(к|К)\", r'\\1\\2 \\3', address)\n",
    "        address = re.sub(r\"пос|р-н| ао|Северо-Западный|№|уч.|тер.\", \"\", address)\n",
    "        address = re.sub(r\"(улица) (\\d+-[яЯ])\", r\"\\2 \\1\", address)\n",
    "        address = re.sub(r\"кв-л\", r\"квартал\", address)\n",
    "        modified_addresses.append(address)\n",
    "    return modified_addresses"
   ]
  },
  {
   "cell_type": "code",
   "execution_count": null,
   "id": "5acae958-c8d0-47b2-9b63-a2b97a8bd1c3",
   "metadata": {},
   "outputs": [],
   "source": [
    "highway_subset[\"address\"] = address_sub(highway_subset[\"address\"])"
   ]
  },
  {
   "cell_type": "code",
   "execution_count": null,
   "id": "074da5d7-e376-4afc-84ff-36c717b040cb",
   "metadata": {},
   "outputs": [],
   "source": [
    "address_list = []\n",
    "def do_geocode(address, list, attempt=1, max_attempts=5):\n",
    "  try:\n",
    "    list.append(Nominatim(user_agent=\"my_request\").geocode(address, timeout=None)[-1])\n",
    "  except GeocoderTimedOut:\n",
    "    if attempt <= max_attempts:\n",
    "      return do_geocode(address, attempt=attempt+1)\n",
    "    raise"
   ]
  },
  {
   "cell_type": "code",
   "execution_count": null,
   "id": "38819f1c-4ddf-4104-a455-bc3a2c32a4f2",
   "metadata": {},
   "outputs": [],
   "source": [
    "for row in tqdm(df_subset['address']):\n",
    "    try:\n",
    "        do_geocode(row, address_list)\n",
    "    except:\n",
    "        address_list.append('None')\n",
    "highway_subset[\"location\"] = address_list\n",
    "df[(df[\"address\"].str.contains(\"ш.\") == True) & (df[\"location\"].isna() == True)][\"location\"] == highway_subset[\"location\"]"
   ]
  },
  {
   "cell_type": "code",
   "execution_count": null,
   "id": "05cdb7c4-3c37-4c79-b095-076fdda2d8a8",
   "metadata": {},
   "outputs": [],
   "source": [
    "df_subset = df[(df[\"address\"].str.contains(\"ш.\") == False) & (df[\"location\"].isna() == True)]"
   ]
  },
  {
   "cell_type": "code",
   "execution_count": null,
   "id": "02e52436-d9d4-44b0-a769-d0ea7863e597",
   "metadata": {},
   "outputs": [],
   "source": [
    "sub_list\n",
    "for row in tqdm(df_subset['address']):\n",
    "    try:\n",
    "        do_geocode(row, sub_list)\n",
    "    except:\n",
    "        address_list.append('None')\n",
    "df_subset[\"location\"] = sub_list\n",
    "df[(df[\"address\"].str.contains(\"ш.\") == False) & (df[\"location\"].isna() == True)][\"location\"] == highway_subset[\"location\"]"
   ]
  },
  {
   "cell_type": "code",
   "execution_count": 54,
   "id": "ba036908-d7c2-4b7a-8d9e-76fb2d84b017",
   "metadata": {},
   "outputs": [],
   "source": [
    "df[\"int_location\"] = df[\"location\"].str.split(\",\")"
   ]
  },
  {
   "cell_type": "code",
   "execution_count": 78,
   "id": "f5979b5c-1fca-4725-a1da-0549140e2662",
   "metadata": {},
   "outputs": [],
   "source": [
    "list_of_locations = []\n",
    "for item in df[\"int_location\"]:\n",
    "    a, b = item[0], item[1]\n",
    "    list_of_locations.append((float(a.strip(\"(\")), float(b.strip(\")\"))))"
   ]
  },
  {
   "cell_type": "code",
   "execution_count": 82,
   "id": "24b76457-17a7-4efa-86c9-de829ddf53d2",
   "metadata": {},
   "outputs": [],
   "source": [
    "df[\"int_location\"] = list_of_locations"
   ]
  },
  {
   "cell_type": "code",
   "execution_count": 85,
   "id": "b34f7ab7-e409-426d-a4b6-484b579ef6d0",
   "metadata": {},
   "outputs": [],
   "source": [
    "center_location = (55.752121, 37.617664)\n",
    "df[df[\"location\"] == \"None\"] = np.nan\n",
    "df.dropna(subset=[\"location\"], axis=0, inplace=True)\n",
    "df[\"distance_to_center\"] = df[\"int_location\"].apply(lambda x: distance.geodesic(center_location, x).km)"
   ]
  },
  {
   "cell_type": "code",
   "execution_count": 86,
   "id": "a90e0497-d27d-4130-a410-58ea3f65873f",
   "metadata": {},
   "outputs": [
    {
     "data": {
      "text/plain": [
       "0         2.493411\n",
       "1         2.493411\n",
       "2         2.493411\n",
       "3         1.935186\n",
       "4         1.589391\n",
       "           ...    \n",
       "19732    16.161138\n",
       "19733    18.795418\n",
       "19734    18.177533\n",
       "19735    17.398762\n",
       "19736    17.142200\n",
       "Name: distance_to_center, Length: 19324, dtype: float64"
      ]
     },
     "execution_count": 86,
     "metadata": {},
     "output_type": "execute_result"
    }
   ],
   "source": [
    "df[\"distance_to_center\"]"
   ]
  },
  {
   "cell_type": "code",
   "execution_count": 87,
   "id": "f469e6f8-8c89-4c04-8af0-9c0284624013",
   "metadata": {},
   "outputs": [],
   "source": [
    "df.drop([\"address\", \"location\", \"int_location\"], axis=1, inplace=True)"
   ]
  },
  {
   "cell_type": "code",
   "execution_count": 91,
   "id": "f0dd1b55-39f8-4c37-bed2-02a6e3eeae77",
   "metadata": {},
   "outputs": [],
   "source": [
    "# 22. Выводим финальный датасет в файл.\n",
    "df.to_csv(\"data.csv\")"
   ]
  },
  {
   "cell_type": "code",
   "execution_count": 97,
   "id": "66594b97",
   "metadata": {},
   "outputs": [
    {
     "name": "stdout",
     "output_type": "stream",
     "text": [
      "<class 'pandas.core.frame.DataFrame'>\n",
      "Index: 19324 entries, 0 to 19736\n",
      "Data columns (total 37 columns):\n",
      " #   Column                   Non-Null Count  Dtype  \n",
      "---  ------                   --------------  -----  \n",
      " 0   ID                       19324 non-null  int64  \n",
      " 1   apartment_square         19324 non-null  float64\n",
      " 2   price                    19324 non-null  float64\n",
      " 3   ceiling_height           19324 non-null  float64\n",
      " 4   children_yes             19324 non-null  int64  \n",
      " 5   pets_yes                 19324 non-null  int64  \n",
      " 6   children_and_pets_yes    19324 non-null  int64  \n",
      " 7   elevator_type            19324 non-null  int64  \n",
      " 8   elevator_pass            19324 non-null  int64  \n",
      " 9   elevator_cargo           19324 non-null  int64  \n",
      " 10  garbage_chute_ yes       19324 non-null  int64  \n",
      " 11  bathroom_type            19324 non-null  int64  \n",
      " 12  bathroom_comb            19324 non-null  int64  \n",
      " 13  bathroom_separate        19324 non-null  int64  \n",
      " 14  windows_street           19324 non-null  int64  \n",
      " 15  windows_yard             19324 non-null  int64  \n",
      " 16  windows_all              19324 non-null  int64  \n",
      " 17  balcony_type             19324 non-null  int64  \n",
      " 18  balcony_bal              19324 non-null  int64  \n",
      " 19  balcony_loggia           19324 non-null  int64  \n",
      " 20  decor_designer           19324 non-null  int64  \n",
      " 21  decor_evro               19324 non-null  int64  \n",
      " 22  decor_cosmetic           19324 non-null  int64  \n",
      " 23  parking_lot_under        19324 non-null  int64  \n",
      " 24  parking_lot_ground       19324 non-null  int64  \n",
      " 25  parking_lot_open         19324 non-null  int64  \n",
      " 26  parking_multi-level      19324 non-null  int64  \n",
      " 27  rooms                    19324 non-null  int64  \n",
      " 28  isolated_room            19324 non-null  int64  \n",
      " 29  adjacent_room            19324 non-null  int64  \n",
      " 30  adjacent/isolated        19324 non-null  int64  \n",
      " 31  apartment_open_plan      19324 non-null  int64  \n",
      " 32  floor                    19324 non-null  int64  \n",
      " 33  nfloors                  19324 non-null  int64  \n",
      " 34  house_type_fit_to_price  19324 non-null  float64\n",
      " 35  distance_to_center       19324 non-null  float64\n",
      " 36  distance_to_metro        19324 non-null  float64\n",
      "dtypes: float64(6), int64(31)\n",
      "memory usage: 6.1 MB\n"
     ]
    }
   ],
   "source": [
    "# 23. Проверяем типы данных.\n",
    "df.info()"
   ]
  },
  {
   "cell_type": "code",
   "execution_count": null,
   "id": "8e413260-3638-400a-94ca-474c51f3a6b0",
   "metadata": {},
   "outputs": [],
   "source": []
  }
 ],
 "metadata": {
  "kernelspec": {
   "display_name": "Python 3 (ipykernel)",
   "language": "python",
   "name": "python3"
  },
  "language_info": {
   "codemirror_mode": {
    "name": "ipython",
    "version": 3
   },
   "file_extension": ".py",
   "mimetype": "text/x-python",
   "name": "python",
   "nbconvert_exporter": "python",
   "pygments_lexer": "ipython3",
   "version": "3.11.6"
  }
 },
 "nbformat": 4,
 "nbformat_minor": 5
}
