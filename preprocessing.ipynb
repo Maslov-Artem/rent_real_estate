{
 "cells": [
  {
   "cell_type": "code",
   "execution_count": 34,
   "id": "b8817bc3-1053-4cc3-a1df-83cd1eb1e5e0",
   "metadata": {},
   "outputs": [],
   "source": [
    "# 1. Импортируем библиотеки\n",
    "import pandas as pd \n",
    "import re"
   ]
  },
  {
   "cell_type": "code",
   "execution_count": 35,
   "id": "9b9c1840",
   "metadata": {},
   "outputs": [],
   "source": [
    "# 2. Считываем датафрейм.\n",
    "path = (\"_data.csv\")\n",
    "df = pd.read_csv(path)"
   ]
  },
  {
   "cell_type": "code",
   "execution_count": 36,
   "id": "7cc863e1",
   "metadata": {},
   "outputs": [],
   "source": [
    "# 3. Устнавливаем опцию отображения всех столбцов.\n",
    "pd.set_option('display.max_columns', None)"
   ]
  },
  {
   "cell_type": "code",
   "execution_count": 37,
   "id": "9dfd3de4",
   "metadata": {},
   "outputs": [],
   "source": [
    "# 4. Оставляем в датафрейме объявление только по Москве.\n",
    "df = df[df[\"Адрес\"].str.contains(\"Москва\", case=False)]"
   ]
  },
  {
   "cell_type": "code",
   "execution_count": 38,
   "id": "d0cce83a",
   "metadata": {},
   "outputs": [
    {
     "data": {
      "text/plain": [
       "281"
      ]
     },
     "execution_count": 38,
     "metadata": {},
     "output_type": "execute_result"
    }
   ],
   "source": [
    "# 5. Ищем дубликаты объявлений по описанию.\n",
    "duplicate_rows = df[df.duplicated(subset='Описание')]\n",
    "len(duplicate_rows)"
   ]
  },
  {
   "cell_type": "code",
   "execution_count": 39,
   "id": "695d0e14",
   "metadata": {},
   "outputs": [
    {
     "data": {
      "text/plain": [
       "19456"
      ]
     },
     "execution_count": 39,
     "metadata": {},
     "output_type": "execute_result"
    }
   ],
   "source": [
    "# 6. Удаляем дубликаты объявлений по описанию.\n",
    "df = df.drop_duplicates(subset='Описание')\n",
    "len(df)"
   ]
  },
  {
   "cell_type": "code",
   "execution_count": 40,
   "id": "fe4d0ad0-2d45-4f1a-8cd2-7ea84dc5c65d",
   "metadata": {},
   "outputs": [],
   "source": [
    "# 7. Удаляем лишние столбцы, которые не повлияют или незначительно повлияют на результат.\n",
    "df.drop([\"Unnamed: 0\", \"Тип\", \"Телефоны\", \"Описание\", \"Площадь комнат, м2\", \"Дополнительно\", \"Название ЖК\", \"Серия дома\", \"Ссылка на объявление\"], inplace=True, axis=1)"
   ]
  },
  {
   "cell_type": "code",
   "execution_count": 41,
   "id": "b00a231b-46b3-4953-a8ed-e8e94786cc1c",
   "metadata": {},
   "outputs": [],
   "source": [
    "# 8. Меняем название колонок.\n",
    "rename_map = {'Количество комнат': \"number_of_rooms\", 'Метро': \"metro\", 'Адрес': \"address\", 'Площадь, м2': \"apartment_area_m2\", \n",
    "              'Дом': \"house\", 'Парковка': \"parking_lot\", 'Можно с детьми/животными': 'Children/pets allowed','Высота потолков, м': 'Ceiling_height',\n",
    "              'Лифт': 'Elevator','Мусоропровод': 'Garbage_chute', 'Цена': 'price', 'Ремонт': 'decor', 'Балкон': 'balcony', 'Окна': 'windows', \n",
    "              'Санузел': 'bathroom'}\n",
    "\n",
    "df.rename(columns=rename_map, inplace=True)"
   ]
  },
  {
   "cell_type": "code",
   "execution_count": 42,
   "id": "46eb1dec-f082-457b-b520-66c8096a5d8a",
   "metadata": {},
   "outputs": [],
   "source": [
    "# 9. Заполняем пропущенные значения\n",
    "df[\"number_of_rooms\"].fillna(\"Апартаменты/свободная планировка\", inplace=True)\n",
    "df[\"metro\"].fillna(\"Нет_данных\", inplace=True)\n",
    "df[\"parking_lot\"].fillna(\"Отсутствует\", inplace=True)\n",
    "\n",
    "df['ceiling_height'] = df['Ceiling_height'].fillna(df['Ceiling_height'].mean())\n",
    "df['elevator'] = df['Elevator'].fillna('Нет данных')\n",
    "df['garbage_chute'] = df['Garbage_chute'].fillna('Нет_данных')\n",
    "df['children/pets allowed'] = df['Children/pets allowed'].fillna('Нет_данных')\n",
    "\n",
    "df['decor'].fillna('Нет_данных', inplace=True)\n",
    "df['balcony'].fillna('Отсутствует',inplace=True)\n",
    "df['windows'].fillna('Нет_данных',inplace=True)\n",
    "df['bathroom'].fillna('Нет_данных',inplace=True)"
   ]
  },
  {
   "cell_type": "code",
   "execution_count": 43,
   "id": "f0dd1b55-39f8-4c37-bed2-02a6e3eeae77",
   "metadata": {},
   "outputs": [],
   "source": [
    "df.to_csv(\"data.csv\")"
   ]
  }
 ],
 "metadata": {
  "kernelspec": {
   "display_name": "Python 3 (ipykernel)",
   "language": "python",
   "name": "python3"
  },
  "language_info": {
   "codemirror_mode": {
    "name": "ipython",
    "version": 3
   },
   "file_extension": ".py",
   "mimetype": "text/x-python",
   "name": "python",
   "nbconvert_exporter": "python",
   "pygments_lexer": "ipython3",
   "version": "3.11.5"
  }
 },
 "nbformat": 4,
 "nbformat_minor": 5
}
