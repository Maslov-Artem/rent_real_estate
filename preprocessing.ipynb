{
 "cells": [
  {
   "cell_type": "code",
   "execution_count": 6,
   "id": "b8817bc3-1053-4cc3-a1df-83cd1eb1e5e0",
   "metadata": {},
   "outputs": [],
   "source": [
    "import pandas as pd \n",
    "import re"
   ]
  },
  {
   "cell_type": "code",
   "execution_count": 7,
   "id": "fe4d0ad0-2d45-4f1a-8cd2-7ea84dc5c65d",
   "metadata": {},
   "outputs": [],
   "source": [
    "path = (\"_data.csv\")\n",
    "df = pd.read_csv(path)\n",
    "df = df[df[\"Адрес\"].str.contains(\"Москва\", case=False)]\n",
    "pd.set_option('display.max_columns', None)\n",
    "df.drop([\"Unnamed: 0\", \"Тип\", \"Телефоны\", \"Описание\", \"Название ЖК\", \"Серия дома\", \"Ссылка на объявление\"], inplace=True, axis=1)"
   ]
  },
  {
   "cell_type": "code",
   "execution_count": 8,
   "id": "b00a231b-46b3-4953-a8ed-e8e94786cc1c",
   "metadata": {},
   "outputs": [],
   "source": [
    "# Меняем название колонок\n",
    "rename_map = {'Количество комнат': \"number_of_rooms\", 'Метро': \"metro\", 'Адрес': \"address\", 'Площадь, м2': \"apartment_area_m2\", 'Дом': \"house\", 'Парковка': \"parking_lot\"}\n",
    "df.rename(columns=rename_map, inplace=True)"
   ]
  },
  {
   "cell_type": "code",
   "execution_count": 9,
   "id": "46eb1dec-f082-457b-b520-66c8096a5d8a",
   "metadata": {},
   "outputs": [],
   "source": [
    "# Заполняем пропущенные значения\n",
    "df[\"number_of_rooms\"].fillna(\"Апартаменты/свободная планировка\", inplace=True)\n",
    "df[\"metro\"].fillna(\"не указана\", inplace=True)\n",
    "df[\"parking_lot\"].fillna(\"нет\", inplace=True)\n",
    "\n",
    "df['Дополнительно'] = df['Дополнительно'].fillna('Нет данных')\n",
    "df['Высота потолков, м'] = df['Высота потолков, м'].fillna(df['Высота потолков, м'].mean())\n",
    "df['Лифт'] = df['Лифт'].fillna('Нет данных')\n",
    "df['Мусоропровод'] = df['Мусоропровод'].fillna('Нет данных')\n",
    "df['Можно с детьми/животными'] = df['Можно с детьми/животными'].fillna('Нет данных')\n",
    "df.rename(columns={'Можно с детьми/животными': 'Children/pets allowed','Дополнительно': 'Additionally','Высота потолков, м': 'Ceiling_height',\n",
    "                   'Лифт': 'Elevator','Мусоропровод': 'Garbage_chute'}, inplace= True)\n",
    "\n",
    "# Переименовываем столбцы 'Цена', 'Ремонт', 'Площадь комнат, м2', 'Балкон', 'Окна', 'Санузел' в английские\n",
    "df.rename(columns={'Цена': 'price', 'Ремонт': 'decor', 'Площадь комнат, м2': 'rooms_sq', 'Балкон': 'balcony', 'Окна': 'windows', 'Санузел': 'bathroom'}, inplace=True)\n",
    "\n",
    "# Заполняем пустые значения столбца 'decor' (ремонт) значением 'decor_na'\n",
    "df['decor'].fillna('decor_na', inplace=True)\n",
    "\n",
    "# Создаем функцию подсчета суммы числовых значений в строке\n",
    "def sum_numbers(string):\n",
    "       numbers = re.findall(r'\\d+', string)  # Используем регулярное выражение для поиска чисел\n",
    "       numbers = [int(num) for num in numbers]  # Преобразуем найденные числа в целочисленный формат\n",
    "       \n",
    "       return sum(numbers)  # Вернем сумму чисел\n",
    "\n",
    "# Заполняем непустые значения столбца 'rooms_sq' суммой числовых значения, используя функцию sum_numbers\n",
    "df['rooms_sq'] = df['rooms_sq'].apply(lambda x: sum_numbers(x) if pd.notnull(x) else x)\n",
    "\n",
    "# Заменяем 1 выброс средним значением.\n",
    "df['rooms_sq'] = df['rooms_sq'].replace(79060990004, df['rooms_sq'].median())\n",
    "\n",
    "# Заполняем пустые значения столбца 'rooms_sq' медианными значениями.\n",
    "df['rooms_sq'].fillna(df['rooms_sq'].median(), inplace=True)\n",
    "\n",
    "# Заполняем пустые значения столбца 'balcony' (Балкон) значением 'no_balcony'\n",
    "df['balcony'].fillna('no_balcony',inplace=True)\n",
    "\n",
    "# Заполняем пустые значения столбца 'windows' (Окна) значением 'windows_na'\n",
    "df['windows'].fillna('windows_na',inplace=True)\n",
    "\n",
    "# Заполняем пустые значения столбца 'bathroom' (Санузел) значением 'bathroom_na'\n",
    "df['bathroom'].fillna('bathroom_na',inplace=True)"
   ]
  },
  {
   "cell_type": "code",
   "execution_count": 10,
   "id": "f0dd1b55-39f8-4c37-bed2-02a6e3eeae77",
   "metadata": {},
   "outputs": [],
   "source": [
    "df.to_csv(\"data.csv\")"
   ]
  }
 ],
 "metadata": {
  "kernelspec": {
   "display_name": "Python 3 (ipykernel)",
   "language": "python",
   "name": "python3"
  },
  "language_info": {
   "codemirror_mode": {
    "name": "ipython",
    "version": 3
   },
   "file_extension": ".py",
   "mimetype": "text/x-python",
   "name": "python",
   "nbconvert_exporter": "python",
   "pygments_lexer": "ipython3",
   "version": "3.11.5"
  }
 },
 "nbformat": 4,
 "nbformat_minor": 5
}
